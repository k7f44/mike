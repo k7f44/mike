{
 "cells": [
  {
   "attachments": {},
   "cell_type": "markdown",
   "metadata": {},
   "source": [
    "# Задание 2. Элементы теории вероятности: дисперсия и стандартное отклонение\n",
    "## Задание 2.1"
   ]
  },
  {
   "cell_type": "code",
   "execution_count": 16,
   "metadata": {},
   "outputs": [
    {
     "name": "stdout",
     "output_type": "stream",
     "text": [
      "{'Январь': 25.698144998699274, 'Февраль': 53.552563775510194, 'Март': 18.196839067377734, 'Апрель': 27.200766493055557, 'Май': 52.33291818418314, 'Июнь': 25.53784375, 'Июль': 24.70724180541103, 'Август': 22.083463677159212, 'Сентябрь': 27.690935937499997, 'Октябрь': 36.44631227237253, 'Ноябрь': 37.18613263888889, 'Декабрь': 27.016725073349832}\n",
      "{'Январь': 5.069333782529936, 'Февраль': 7.317961722741531, 'Март': 4.265775318435997, 'Апрель': 5.2154354078116585, 'Май': 7.234149444418684, 'Июнь': 5.0534981695851044, 'Июль': 4.970637967646711, 'Август': 4.699304595060764, 'Сентябрь': 5.262217777467975, 'Октябрь': 6.037078123759252, 'Ноябрь': 6.09804334511398, 'Декабрь': 5.197761544487188}\n"
     ]
    }
   ],
   "source": [
    "import matplotlib.pyplot as plt  \n",
    "import pandas as pd \n",
    "import numpy as np\n",
    "df = pd.read_csv('ekb_weather.csv')  \n",
    " \n",
    "df['date'] = pd.to_datetime(df['date'], format='%d.%m.%Y %H:%M')  \n",
    " \n",
    " \n",
    " \n",
    "df['month'] = pd.DatetimeIndex(df['date']).month \n",
    " \n",
    "months = {1:'Январь', 2:'Февраль', 3:'Март', 4:'Апрель', 5:'Май', 6:'Июнь', 7:'Июль', 8:'Август', 9:'Сентябрь', 10:'Октябрь', 11:'Ноябрь', 12:'Декабрь'} \n",
    "\n",
    "\n",
    "disp = {}\n",
    "otkl= {}\n",
    "\n",
    "for i in range (1, 13) : \n",
    "    df_new=df[df['month']==i] \n",
    "    disp[months[i]]=(np.var(df_new['temp'])) \n",
    "    otkl[months[i]]=(np.std(df_new['temp'])) \n",
    "\n",
    "\n",
    "print(disp)\n",
    "print(otkl)"
   ]
  },
  {
   "attachments": {},
   "cell_type": "markdown",
   "metadata": {},
   "source": [
    "## Задание 2.2"
   ]
  },
  {
   "cell_type": "code",
   "execution_count": 17,
   "metadata": {},
   "outputs": [
    {
     "name": "stdout",
     "output_type": "stream",
     "text": [
      "{'Январь': 51.3865159989594, 'Февраль': 120.85222716039539, 'Март': 62.91143584157129, 'Апрель': 28.660541493055582, 'Май': 25.974211018046525, 'Июнь': 8.384232638888905, 'Июль': 21.33644836108221, 'Август': 59.75914086888658, 'Сентябрь': 54.09609999999995, 'Октябрь': 47.99840725806449, 'Ноябрь': 57.23013732638886, 'Декабрь': 45.27227589372059}\n",
      "{'Январь': 7.1684388815808004, 'Февраль': 10.993281000701991, 'Март': 7.931672953518147, 'Апрель': 5.353554099199482, 'Май': 5.096490068473255, 'Июнь': 2.895553943356764, 'Июль': 4.619139352853755, 'Август': 7.730403667913247, 'Сентябрь': 7.355005098570629, 'Октябрь': 6.9280882830738015, 'Ноябрь': 7.565060298926166, 'Декабрь': 6.728467573951783}\n"
     ]
    }
   ],
   "source": [
    "import matplotlib.pyplot as plt  \n",
    "import pandas as pd \n",
    "import numpy as np\n",
    "df = pd.read_csv('ekb_weather.csv')  \n",
    " \n",
    "df['date'] = pd.to_datetime(df['date'], format='%d.%m.%Y %H:%M')  \n",
    " \n",
    " \n",
    " \n",
    "df['month'] = pd.DatetimeIndex(df['date']).month \n",
    " \n",
    "months = {1:'Январь', 2:'Февраль', 3:'Март', 4:'Апрель', 5:'Май', 6:'Июнь', 7:'Июль', 8:'Август', 9:'Сентябрь', 10:'Октябрь', 11:'Ноябрь', 12:'Декабрь'} \n",
    "\n",
    "\n",
    "disp = {}\n",
    "otkl= {}\n",
    "\n",
    "for i in range (1, 13) : \n",
    "    df_new=df[df['month']==i] \n",
    "    disp[months[i]]=(np.var(df_new['pressure'])) \n",
    "    otkl[months[i]]=(np.std(df_new['pressure'])) \n",
    "\n",
    "\n",
    "print(disp)\n",
    "print(otkl)"
   ]
  },
  {
   "attachments": {},
   "cell_type": "markdown",
   "metadata": {},
   "source": [
    "## Задание 2.3"
   ]
  },
  {
   "cell_type": "code",
   "execution_count": 18,
   "metadata": {},
   "outputs": [
    {
     "name": "stdout",
     "output_type": "stream",
     "text": [
      "{'Январь': 44.03471318938605, 'Февраль': 96.7007134885204, 'Март': 289.4655957336109, 'Апрель': 368.43609374999994, 'Май': 393.0725806451613, 'Июнь': 330.51734375, 'Июль': 351.54654981789804, 'Август': 211.54824076482834, 'Сентябрь': 170.1824826388889, 'Октябрь': 260.601310483871, 'Ноябрь': 134.1330555555556, 'Декабрь': 126.91845465423133}\n",
      "{'Январь': 6.6358656699323, 'Февраль': 9.83365209311985, 'Март': 17.013688481149845, 'Апрель': 19.194689206913456, 'Май': 19.826058121703397, 'Июнь': 18.180135966213236, 'Июль': 18.74957465698617, 'Август': 14.544698029344863, 'Сентябрь': 13.045400823236092, 'Октябрь': 16.14315057489928, 'Ноябрь': 11.581582601508119, 'Декабрь': 11.26580909896095}\n"
     ]
    }
   ],
   "source": [
    "import matplotlib.pyplot as plt  \n",
    "import pandas as pd \n",
    "import numpy as np\n",
    "df = pd.read_csv('ekb_weather.csv')  \n",
    " \n",
    "df['date'] = pd.to_datetime(df['date'], format='%d.%m.%Y %H:%M')  \n",
    " \n",
    " \n",
    " \n",
    "df['month'] = pd.DatetimeIndex(df['date']).month \n",
    " \n",
    "months = {1:'Январь', 2:'Февраль', 3:'Март', 4:'Апрель', 5:'Май', 6:'Июнь', 7:'Июль', 8:'Август', 9:'Сентябрь', 10:'Октябрь', 11:'Ноябрь', 12:'Декабрь'} \n",
    "\n",
    "\n",
    "disp = {}\n",
    "otkl= {}\n",
    "\n",
    "for i in range (1, 13) : \n",
    "    df_new=df[df['month']==i] \n",
    "    disp[months[i]]=(np.var(df_new['humidity'])) \n",
    "    otkl[months[i]]=(np.std(df_new['humidity'])) \n",
    "\n",
    "\n",
    "print(disp)\n",
    "print(otkl)"
   ]
  },
  {
   "attachments": {},
   "cell_type": "markdown",
   "metadata": {},
   "source": [
    "## Задание 2.4"
   ]
  },
  {
   "cell_type": "code",
   "execution_count": 37,
   "metadata": {},
   "outputs": [
    {
     "name": "stdout",
     "output_type": "stream",
     "text": [
      "              temp     pressure     humidity\n",
      "count  2919.000000  2918.000000  2919.000000\n",
      "mean      3.953923   761.434133    66.257965\n",
      "std      11.908801     8.133222    17.755583\n",
      "min     -31.800000   735.000000    13.000000\n",
      "25%      -5.200000   756.100000    55.000000\n",
      "50%       3.900000   761.200000    72.000000\n",
      "75%      13.500000   766.900000    80.000000\n",
      "max      33.600000   787.600000    93.000000\n"
     ]
    }
   ],
   "source": [
    "import matplotlib.pyplot as plt  \n",
    "import pandas as pd \n",
    "import numpy as np\n",
    "df = pd.read_csv('ekb_weather.csv')  \n",
    "#print(df.describe()['temp']['50%']) Выделяет нужное из всегда discribe\n",
    "print(df.describe())"
   ]
  }
 ],
 "metadata": {
  "kernelspec": {
   "display_name": "Python 3",
   "language": "python",
   "name": "python3"
  },
  "language_info": {
   "codemirror_mode": {
    "name": "ipython",
    "version": 3
   },
   "file_extension": ".py",
   "mimetype": "text/x-python",
   "name": "python",
   "nbconvert_exporter": "python",
   "pygments_lexer": "ipython3",
   "version": "3.10.6"
  },
  "orig_nbformat": 4
 },
 "nbformat": 4,
 "nbformat_minor": 2
}

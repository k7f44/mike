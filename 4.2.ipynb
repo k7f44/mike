{
 "cells": [
  {
   "attachments": {},
   "cell_type": "markdown",
   "metadata": {},
   "source": [
    "# Задание 2. Элементы теории вероятности: дисперсия и стандартное отклонение\n",
    "## Задание 2.1"
   ]
  },
  {
   "cell_type": "code",
   "execution_count": 8,
   "metadata": {},
   "outputs": [
    {
     "name": "stdout",
     "output_type": "stream",
     "text": [
      "count    2919.000000\n",
      "mean        3.953923\n",
      "std        11.908801\n",
      "min       -31.800000\n",
      "25%        -5.200000\n",
      "50%         3.900000\n",
      "75%        13.500000\n",
      "max        33.600000\n",
      "Name: temp, dtype: float64\n",
      "141.77094641538275\n"
     ]
    }
   ],
   "source": [
    "import matplotlib.pyplot as plt  \n",
    "import pandas as pd \n",
    "import numpy as np\n",
    "df = pd.read_csv('ekb_weather.csv')  \n",
    " \n",
    "df['date'] = pd.to_datetime(df['date'], format='%d.%m.%Y %H:%M')  \n",
    " \n",
    " \n",
    " \n",
    "df['month'] = pd.DatetimeIndex(df['date']).month \n",
    " \n",
    "months = {1:'Январь', 2:'Февраль', 3:'Март', 4:'Апрель', 5:'Май', 6:'Июнь', 7:'Июль', 8:'Август', 9:'Сентябрь', 10:'Октябрь', 11:'Ноябрь', 12:'Декабрь'} \n",
    "df['month'] = df['month'].apply(lambda i: months[i]) \n",
    "\n",
    "print(df['temp'].describe()) \n",
    "print(np.var(df['temp'])) "
   ]
  }
 ],
 "metadata": {
  "kernelspec": {
   "display_name": "Python 3",
   "language": "python",
   "name": "python3"
  },
  "language_info": {
   "codemirror_mode": {
    "name": "ipython",
    "version": 3
   },
   "file_extension": ".py",
   "mimetype": "text/x-python",
   "name": "python",
   "nbconvert_exporter": "python",
   "pygments_lexer": "ipython3",
   "version": "3.10.6"
  },
  "orig_nbformat": 4
 },
 "nbformat": 4,
 "nbformat_minor": 2
}

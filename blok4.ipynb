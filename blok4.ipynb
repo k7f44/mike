{
 "cells": [
  {
   "attachments": {},
   "cell_type": "markdown",
   "metadata": {},
   "source": [
    "# Блок 4\n",
    "## Задание 4.1"
   ]
  },
  {
   "cell_type": "code",
   "execution_count": 26,
   "metadata": {},
   "outputs": [
    {
     "name": "stdout",
     "output_type": "stream",
     "text": [
      "<class 'pandas.core.frame.DataFrame'>\n",
      "RangeIndex: 128 entries, 0 to 127\n",
      "Data columns (total 5 columns):\n",
      " #   Column   Non-Null Count  Dtype \n",
      "---  ------   --------------  ----- \n",
      " 0   GOLDA    124 non-null    object\n",
      " 1   Silver   121 non-null    object\n",
      " 2   platinu  124 non-null    object\n",
      " 3   Palla    120 non-null    object\n",
      " 4   Date     128 non-null    object\n",
      "dtypes: object(5)\n",
      "memory usage: 5.1+ KB\n",
      "None\n"
     ]
    }
   ],
   "source": [
    "import pandas as pd \n",
    "df = pd.read_csv('precious_metal.csv', sep=';') \n",
    "print (df.info())"
   ]
  },
  {
   "attachments": {},
   "cell_type": "markdown",
   "metadata": {},
   "source": [
    "## Задание 4.2"
   ]
  },
  {
   "cell_type": "code",
   "execution_count": 27,
   "metadata": {},
   "outputs": [
    {
     "name": "stdout",
     "output_type": "stream",
     "text": [
      "<class 'pandas.core.frame.DataFrame'>\n",
      "RangeIndex: 128 entries, 0 to 127\n",
      "Data columns (total 5 columns):\n",
      " #   Column     Non-Null Count  Dtype \n",
      "---  ------     --------------  ----- \n",
      " 0   gold       124 non-null    object\n",
      " 1   silver     121 non-null    object\n",
      " 2   platinum   124 non-null    object\n",
      " 3   palladium  120 non-null    object\n",
      " 4   date       128 non-null    object\n",
      "dtypes: object(5)\n",
      "memory usage: 5.1+ KB\n",
      "None\n"
     ]
    }
   ],
   "source": [
    "import pandas as pd \n",
    "df = pd.read_csv('precious_metal.csv', sep=';') \n",
    "\n",
    "\n",
    "df.set_axis(['gold', 'silver', 'platinum', 'palladium', 'date'], axis = 'columns', inplace = True)\n",
    "print (df.info())"
   ]
  },
  {
   "attachments": {},
   "cell_type": "markdown",
   "metadata": {},
   "source": [
    "## Задание 4.3"
   ]
  },
  {
   "cell_type": "code",
   "execution_count": 40,
   "metadata": {},
   "outputs": [
    {
     "name": "stdout",
     "output_type": "stream",
     "text": [
      "        gold silver platinum palladium             date\n",
      "0     4784,4   58,7  2183,31   5677,62  31.10.2020 0:00\n",
      "1    4759,17  60,67  2195,94   5662,27  30.10.2020 0:00\n",
      "2    4729,52  60,93  2179,19   5812,01  29.10.2020 0:00\n",
      "3    4667,69  59,68  2145,92   5813,41  28.10.2020 0:00\n",
      "4    4673,64  60,85  2189,85         0  27.10.2020 0:00\n",
      "..       ...    ...      ...       ...              ...\n",
      "123  4047,21      0  1800,29   4298,85  09.05.2020 0:00\n",
      "124   4023,9   35,7  1794,33   4324,99  08.05.2020 0:00\n",
      "125  4040,41  35,85  1795,58   4221,39  07.05.2020 0:00\n",
      "126  4014,11  35,86  1819,12   4655,36  01.05.2020 0:00\n",
      "127   4041,8  35,93  1847,95   4638,83  30.04.2020 0:00\n",
      "\n",
      "[128 rows x 5 columns]\n"
     ]
    }
   ],
   "source": [
    "import pandas as pd \n",
    "df = pd.read_csv('precious_metal.csv', sep=';') \n",
    "\n",
    "\n",
    "df.set_axis(['gold', 'silver', 'platinum', 'palladium', 'date'], axis = 'columns', inplace = True)\n",
    "#print (df.info())\n",
    "df.isnull().sum()\n",
    "df = df.fillna(0)\n",
    "print (df)"
   ]
  },
  {
   "attachments": {},
   "cell_type": "markdown",
   "metadata": {},
   "source": [
    "## Задание 4.4"
   ]
  },
  {
   "cell_type": "code",
   "execution_count": 56,
   "metadata": {},
   "outputs": [
    {
     "name": "stdout",
     "output_type": "stream",
     "text": [
      "        gold  silver  platinum  palladium             date\n",
      "0    4784.40   58.70   2183.31    5677.62  31.10.2020 0:00\n",
      "1    4759.17   60.67   2195.94    5662.27  30.10.2020 0:00\n",
      "2    4729.52   60.93   2179.19    5812.01  29.10.2020 0:00\n",
      "3    4667.69   59.68   2145.92    5813.41  28.10.2020 0:00\n",
      "4    4673.64   60.85   2189.85       0.00  27.10.2020 0:00\n",
      "..       ...     ...       ...        ...              ...\n",
      "123  4047.21    0.00   1800.29    4298.85  09.05.2020 0:00\n",
      "124  4023.90   35.70   1794.33    4324.99  08.05.2020 0:00\n",
      "125  4040.41   35.85   1795.58    4221.39  07.05.2020 0:00\n",
      "126  4014.11   35.86   1819.12    4655.36  01.05.2020 0:00\n",
      "127  4041.80   35.93   1847.95    4638.83  30.04.2020 0:00\n",
      "\n",
      "[128 rows x 5 columns]\n"
     ]
    }
   ],
   "source": [
    "import pandas as pd \n",
    "df = pd.read_csv('precious_metal.csv', sep=';') \n",
    "\n",
    "\n",
    "df.set_axis(['gold', 'silver', 'platinum', 'palladium', 'date'], axis = 'columns', inplace = True)\n",
    "#print (df.info())\n",
    "df.isnull().sum()\n",
    "df = df.fillna(0)\n",
    "df['gold'] = df['gold'].apply(lambda x: float(str(x).replace(',','.'))) \n",
    "df['silver'] = df['silver'].apply(lambda x: float(str(x).replace(',','.'))) \n",
    "df['platinum'] = df['platinum'].apply(lambda x: float(str(x).replace(',','.'))) \n",
    "df['palladium'] = df['palladium'].apply(lambda x: float(str(x).replace(',','.'))) \n",
    "\n",
    "\n",
    "print (df)\n"
   ]
  },
  {
   "attachments": {},
   "cell_type": "markdown",
   "metadata": {},
   "source": [
    "## Задание 4.5"
   ]
  },
  {
   "cell_type": "code",
   "execution_count": 61,
   "metadata": {},
   "outputs": [
    {
     "name": "stdout",
     "output_type": "stream",
     "text": [
      "gold         4234.953594\n",
      "silver         49.593203\n",
      "platinum     1988.522578\n",
      "palladium    4679.690859\n",
      "dtype: float64\n",
      "        gold     silver  platinum    palladium             date\n",
      "0    4784.40  58.700000   2183.31  5677.620000  31.10.2020 0:00\n",
      "1    4759.17  60.670000   2195.94  5662.270000  30.10.2020 0:00\n",
      "2    4729.52  60.930000   2179.19  5812.010000  29.10.2020 0:00\n",
      "3    4667.69  59.680000   2145.92  5813.410000  28.10.2020 0:00\n",
      "4    4673.64  60.850000   2189.85  4679.690859  27.10.2020 0:00\n",
      "..       ...        ...       ...          ...              ...\n",
      "123  4047.21  49.593203   1800.29  4298.850000  09.05.2020 0:00\n",
      "124  4023.90  35.700000   1794.33  4324.990000  08.05.2020 0:00\n",
      "125  4040.41  35.850000   1795.58  4221.390000  07.05.2020 0:00\n",
      "126  4014.11  35.860000   1819.12  4655.360000  01.05.2020 0:00\n",
      "127  4041.80  35.930000   1847.95  4638.830000  30.04.2020 0:00\n",
      "\n",
      "[128 rows x 5 columns]\n"
     ]
    },
    {
     "name": "stderr",
     "output_type": "stream",
     "text": [
      "C:\\Users\\KMF\\AppData\\Local\\Temp\\ipykernel_14008\\3766474619.py:16: FutureWarning: Dropping of nuisance columns in DataFrame reductions (with 'numeric_only=None') is deprecated; in a future version this will raise TypeError.  Select only valid columns before calling the reduction.\n",
      "  sr=df.mean()\n"
     ]
    },
    {
     "data": {
      "text/html": [
       "<div>\n",
       "<style scoped>\n",
       "    .dataframe tbody tr th:only-of-type {\n",
       "        vertical-align: middle;\n",
       "    }\n",
       "\n",
       "    .dataframe tbody tr th {\n",
       "        vertical-align: top;\n",
       "    }\n",
       "\n",
       "    .dataframe thead th {\n",
       "        text-align: right;\n",
       "    }\n",
       "</style>\n",
       "<table border=\"1\" class=\"dataframe\">\n",
       "  <thead>\n",
       "    <tr style=\"text-align: right;\">\n",
       "      <th></th>\n",
       "      <th>gold</th>\n",
       "      <th>silver</th>\n",
       "      <th>platinum</th>\n",
       "      <th>palladium</th>\n",
       "      <th>date</th>\n",
       "    </tr>\n",
       "  </thead>\n",
       "  <tbody>\n",
       "    <tr>\n",
       "      <th>118</th>\n",
       "      <td>4122.31</td>\n",
       "      <td>40.710000</td>\n",
       "      <td>1914.62</td>\n",
       "      <td>4505.00</td>\n",
       "      <td>19.05.2020 0:00</td>\n",
       "    </tr>\n",
       "    <tr>\n",
       "      <th>119</th>\n",
       "      <td>4083.17</td>\n",
       "      <td>49.593203</td>\n",
       "      <td>1821.70</td>\n",
       "      <td>4295.34</td>\n",
       "      <td>16.05.2020 0:00</td>\n",
       "    </tr>\n",
       "    <tr>\n",
       "      <th>120</th>\n",
       "      <td>4079.71</td>\n",
       "      <td>36.910000</td>\n",
       "      <td>1818.33</td>\n",
       "      <td>4302.18</td>\n",
       "      <td>15.05.2020 0:00</td>\n",
       "    </tr>\n",
       "    <tr>\n",
       "      <th>121</th>\n",
       "      <td>4021.35</td>\n",
       "      <td>36.810000</td>\n",
       "      <td>1797.94</td>\n",
       "      <td>4341.08</td>\n",
       "      <td>14.05.2020 0:00</td>\n",
       "    </tr>\n",
       "    <tr>\n",
       "      <th>122</th>\n",
       "      <td>4021.69</td>\n",
       "      <td>36.560000</td>\n",
       "      <td>1810.82</td>\n",
       "      <td>4403.10</td>\n",
       "      <td>13.05.2020 0:00</td>\n",
       "    </tr>\n",
       "    <tr>\n",
       "      <th>123</th>\n",
       "      <td>4047.21</td>\n",
       "      <td>49.593203</td>\n",
       "      <td>1800.29</td>\n",
       "      <td>4298.85</td>\n",
       "      <td>09.05.2020 0:00</td>\n",
       "    </tr>\n",
       "    <tr>\n",
       "      <th>124</th>\n",
       "      <td>4023.90</td>\n",
       "      <td>35.700000</td>\n",
       "      <td>1794.33</td>\n",
       "      <td>4324.99</td>\n",
       "      <td>08.05.2020 0:00</td>\n",
       "    </tr>\n",
       "    <tr>\n",
       "      <th>125</th>\n",
       "      <td>4040.41</td>\n",
       "      <td>35.850000</td>\n",
       "      <td>1795.58</td>\n",
       "      <td>4221.39</td>\n",
       "      <td>07.05.2020 0:00</td>\n",
       "    </tr>\n",
       "    <tr>\n",
       "      <th>126</th>\n",
       "      <td>4014.11</td>\n",
       "      <td>35.860000</td>\n",
       "      <td>1819.12</td>\n",
       "      <td>4655.36</td>\n",
       "      <td>01.05.2020 0:00</td>\n",
       "    </tr>\n",
       "    <tr>\n",
       "      <th>127</th>\n",
       "      <td>4041.80</td>\n",
       "      <td>35.930000</td>\n",
       "      <td>1847.95</td>\n",
       "      <td>4638.83</td>\n",
       "      <td>30.04.2020 0:00</td>\n",
       "    </tr>\n",
       "  </tbody>\n",
       "</table>\n",
       "</div>"
      ],
      "text/plain": [
       "        gold     silver  platinum  palladium             date\n",
       "118  4122.31  40.710000   1914.62    4505.00  19.05.2020 0:00\n",
       "119  4083.17  49.593203   1821.70    4295.34  16.05.2020 0:00\n",
       "120  4079.71  36.910000   1818.33    4302.18  15.05.2020 0:00\n",
       "121  4021.35  36.810000   1797.94    4341.08  14.05.2020 0:00\n",
       "122  4021.69  36.560000   1810.82    4403.10  13.05.2020 0:00\n",
       "123  4047.21  49.593203   1800.29    4298.85  09.05.2020 0:00\n",
       "124  4023.90  35.700000   1794.33    4324.99  08.05.2020 0:00\n",
       "125  4040.41  35.850000   1795.58    4221.39  07.05.2020 0:00\n",
       "126  4014.11  35.860000   1819.12    4655.36  01.05.2020 0:00\n",
       "127  4041.80  35.930000   1847.95    4638.83  30.04.2020 0:00"
      ]
     },
     "execution_count": 61,
     "metadata": {},
     "output_type": "execute_result"
    }
   ],
   "source": [
    "import pandas as pd \n",
    "df = pd.read_csv('precious_metal.csv', sep=';') \n",
    "\n",
    "\n",
    "df.set_axis(['gold', 'silver', 'platinum', 'palladium', 'date'], axis = 'columns', inplace = True)\n",
    "#print (df.info())\n",
    "df.isnull().sum()\n",
    "df = df.fillna(0)\n",
    "df['gold'] = df['gold'].apply(lambda x: float(str(x).replace(',','.'))) \n",
    "df['silver'] = df['silver'].apply(lambda x: float(str(x).replace(',','.'))) \n",
    "df['platinum'] = df['platinum'].apply(lambda x: float(str(x).replace(',','.'))) \n",
    "df['palladium'] = df['palladium'].apply(lambda x: float(str(x).replace(',','.'))) \n",
    "\n",
    "\n",
    "#print (df)\n",
    "sr=df.mean()\n",
    "print(sr)\n",
    "df=df.replace(0,sr)\n",
    "print(df)"
   ]
  },
  {
   "attachments": {},
   "cell_type": "markdown",
   "metadata": {},
   "source": [
    "## Задание 4.6"
   ]
  },
  {
   "cell_type": "code",
   "execution_count": null,
   "metadata": {},
   "outputs": [],
   "source": []
  }
 ],
 "metadata": {
  "kernelspec": {
   "display_name": "Python 3",
   "language": "python",
   "name": "python3"
  },
  "language_info": {
   "codemirror_mode": {
    "name": "ipython",
    "version": 3
   },
   "file_extension": ".py",
   "mimetype": "text/x-python",
   "name": "python",
   "nbconvert_exporter": "python",
   "pygments_lexer": "ipython3",
   "version": "3.10.6"
  },
  "orig_nbformat": 4,
  "vscode": {
   "interpreter": {
    "hash": "46b0ae78ce8d2e6407bde63aa3aec804518bf8cfa8e47c740584ddbfbc18bb20"
   }
  }
 },
 "nbformat": 4,
 "nbformat_minor": 2
}

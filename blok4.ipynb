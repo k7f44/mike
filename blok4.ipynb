{
 "cells": [
  {
   "attachments": {},
   "cell_type": "markdown",
   "metadata": {},
   "source": [
    "# Блок 4\n",
    "## Задание 4.1"
   ]
  },
  {
   "cell_type": "code",
   "execution_count": 26,
   "metadata": {},
   "outputs": [
    {
     "name": "stdout",
     "output_type": "stream",
     "text": [
      "<class 'pandas.core.frame.DataFrame'>\n",
      "RangeIndex: 128 entries, 0 to 127\n",
      "Data columns (total 5 columns):\n",
      " #   Column   Non-Null Count  Dtype \n",
      "---  ------   --------------  ----- \n",
      " 0   GOLDA    124 non-null    object\n",
      " 1   Silver   121 non-null    object\n",
      " 2   platinu  124 non-null    object\n",
      " 3   Palla    120 non-null    object\n",
      " 4   Date     128 non-null    object\n",
      "dtypes: object(5)\n",
      "memory usage: 5.1+ KB\n",
      "None\n"
     ]
    }
   ],
   "source": [
    "import pandas as pd \n",
    "df = pd.read_csv('precious_metal.csv', sep=';') \n",
    "print (df.info())"
   ]
  },
  {
   "attachments": {},
   "cell_type": "markdown",
   "metadata": {},
   "source": [
    "## Задание 4.2"
   ]
  },
  {
   "cell_type": "code",
   "execution_count": 27,
   "metadata": {},
   "outputs": [
    {
     "name": "stdout",
     "output_type": "stream",
     "text": [
      "<class 'pandas.core.frame.DataFrame'>\n",
      "RangeIndex: 128 entries, 0 to 127\n",
      "Data columns (total 5 columns):\n",
      " #   Column     Non-Null Count  Dtype \n",
      "---  ------     --------------  ----- \n",
      " 0   gold       124 non-null    object\n",
      " 1   silver     121 non-null    object\n",
      " 2   platinum   124 non-null    object\n",
      " 3   palladium  120 non-null    object\n",
      " 4   date       128 non-null    object\n",
      "dtypes: object(5)\n",
      "memory usage: 5.1+ KB\n",
      "None\n"
     ]
    }
   ],
   "source": [
    "import pandas as pd \n",
    "df = pd.read_csv('precious_metal.csv', sep=';') \n",
    "\n",
    "\n",
    "df.set_axis(['gold', 'silver', 'platinum', 'palladium', 'date'], axis = 'columns', inplace = True)\n",
    "print (df.info())"
   ]
  },
  {
   "attachments": {},
   "cell_type": "markdown",
   "metadata": {},
   "source": [
    "## Задание 4.3"
   ]
  },
  {
   "cell_type": "code",
   "execution_count": 40,
   "metadata": {},
   "outputs": [
    {
     "name": "stdout",
     "output_type": "stream",
     "text": [
      "        gold silver platinum palladium             date\n",
      "0     4784,4   58,7  2183,31   5677,62  31.10.2020 0:00\n",
      "1    4759,17  60,67  2195,94   5662,27  30.10.2020 0:00\n",
      "2    4729,52  60,93  2179,19   5812,01  29.10.2020 0:00\n",
      "3    4667,69  59,68  2145,92   5813,41  28.10.2020 0:00\n",
      "4    4673,64  60,85  2189,85         0  27.10.2020 0:00\n",
      "..       ...    ...      ...       ...              ...\n",
      "123  4047,21      0  1800,29   4298,85  09.05.2020 0:00\n",
      "124   4023,9   35,7  1794,33   4324,99  08.05.2020 0:00\n",
      "125  4040,41  35,85  1795,58   4221,39  07.05.2020 0:00\n",
      "126  4014,11  35,86  1819,12   4655,36  01.05.2020 0:00\n",
      "127   4041,8  35,93  1847,95   4638,83  30.04.2020 0:00\n",
      "\n",
      "[128 rows x 5 columns]\n"
     ]
    }
   ],
   "source": [
    "import pandas as pd \n",
    "df = pd.read_csv('precious_metal.csv', sep=';') \n",
    "\n",
    "\n",
    "df.set_axis(['gold', 'silver', 'platinum', 'palladium', 'date'], axis = 'columns', inplace = True)\n",
    "#print (df.info())\n",
    "df.isnull().sum()\n",
    "df = df.fillna(0)\n",
    "print (df)"
   ]
  },
  {
   "attachments": {},
   "cell_type": "markdown",
   "metadata": {},
   "source": [
    "## Задание 4.4"
   ]
  },
  {
   "cell_type": "code",
   "execution_count": 56,
   "metadata": {},
   "outputs": [
    {
     "name": "stdout",
     "output_type": "stream",
     "text": [
      "        gold  silver  platinum  palladium             date\n",
      "0    4784.40   58.70   2183.31    5677.62  31.10.2020 0:00\n",
      "1    4759.17   60.67   2195.94    5662.27  30.10.2020 0:00\n",
      "2    4729.52   60.93   2179.19    5812.01  29.10.2020 0:00\n",
      "3    4667.69   59.68   2145.92    5813.41  28.10.2020 0:00\n",
      "4    4673.64   60.85   2189.85       0.00  27.10.2020 0:00\n",
      "..       ...     ...       ...        ...              ...\n",
      "123  4047.21    0.00   1800.29    4298.85  09.05.2020 0:00\n",
      "124  4023.90   35.70   1794.33    4324.99  08.05.2020 0:00\n",
      "125  4040.41   35.85   1795.58    4221.39  07.05.2020 0:00\n",
      "126  4014.11   35.86   1819.12    4655.36  01.05.2020 0:00\n",
      "127  4041.80   35.93   1847.95    4638.83  30.04.2020 0:00\n",
      "\n",
      "[128 rows x 5 columns]\n"
     ]
    }
   ],
   "source": [
    "import pandas as pd \n",
    "df = pd.read_csv('precious_metal.csv', sep=';') \n",
    "\n",
    "\n",
    "df.set_axis(['gold', 'silver', 'platinum', 'palladium', 'date'], axis = 'columns', inplace = True)\n",
    "#print (df.info())\n",
    "df.isnull().sum()\n",
    "df = df.fillna(0)\n",
    "df['gold'] = df['gold'].apply(lambda x: float(str(x).replace(',','.'))) \n",
    "df['silver'] = df['silver'].apply(lambda x: float(str(x).replace(',','.'))) \n",
    "df['platinum'] = df['platinum'].apply(lambda x: float(str(x).replace(',','.'))) \n",
    "df['palladium'] = df['palladium'].apply(lambda x: float(str(x).replace(',','.'))) \n",
    "\n",
    "\n",
    "print (df)\n"
   ]
  },
  {
   "attachments": {},
   "cell_type": "markdown",
   "metadata": {},
   "source": [
    "## Задание 4.5"
   ]
  },
  {
   "cell_type": "code",
   "execution_count": 1,
   "metadata": {},
   "outputs": [
    {
     "name": "stdout",
     "output_type": "stream",
     "text": [
      "gold         4234.953594\n",
      "silver         49.593203\n",
      "platinum     1988.522578\n",
      "palladium    4679.690859\n",
      "dtype: float64\n",
      "        gold     silver  platinum    palladium             date\n",
      "0    4784.40  58.700000   2183.31  5677.620000  31.10.2020 0:00\n",
      "1    4759.17  60.670000   2195.94  5662.270000  30.10.2020 0:00\n",
      "2    4729.52  60.930000   2179.19  5812.010000  29.10.2020 0:00\n",
      "3    4667.69  59.680000   2145.92  5813.410000  28.10.2020 0:00\n",
      "4    4673.64  60.850000   2189.85  4679.690859  27.10.2020 0:00\n",
      "..       ...        ...       ...          ...              ...\n",
      "123  4047.21  49.593203   1800.29  4298.850000  09.05.2020 0:00\n",
      "124  4023.90  35.700000   1794.33  4324.990000  08.05.2020 0:00\n",
      "125  4040.41  35.850000   1795.58  4221.390000  07.05.2020 0:00\n",
      "126  4014.11  35.860000   1819.12  4655.360000  01.05.2020 0:00\n",
      "127  4041.80  35.930000   1847.95  4638.830000  30.04.2020 0:00\n",
      "\n",
      "[128 rows x 5 columns]\n"
     ]
    },
    {
     "name": "stderr",
     "output_type": "stream",
     "text": [
      "C:\\Users\\KMF\\AppData\\Local\\Temp\\ipykernel_8744\\3513591989.py:16: FutureWarning: Dropping of nuisance columns in DataFrame reductions (with 'numeric_only=None') is deprecated; in a future version this will raise TypeError.  Select only valid columns before calling the reduction.\n",
      "  sr=df.mean()\n"
     ]
    }
   ],
   "source": [
    "import pandas as pd \n",
    "df = pd.read_csv('precious_metal.csv', sep=';') \n",
    "\n",
    "\n",
    "df.set_axis(['gold', 'silver', 'platinum', 'palladium', 'date'], axis = 'columns', inplace = True)\n",
    "#print (df.info())\n",
    "df.isnull().sum()\n",
    "df = df.fillna(0)\n",
    "df['gold'] = df['gold'].apply(lambda x: float(str(x).replace(',','.'))) \n",
    "df['silver'] = df['silver'].apply(lambda x: float(str(x).replace(',','.'))) \n",
    "df['platinum'] = df['platinum'].apply(lambda x: float(str(x).replace(',','.'))) \n",
    "df['palladium'] = df['palladium'].apply(lambda x: float(str(x).replace(',','.'))) \n",
    "\n",
    "\n",
    "#print (df)\n",
    "sr=df.mean()\n",
    "print(sr)\n",
    "df=df.replace(0,sr)\n",
    "print(df)"
   ]
  },
  {
   "attachments": {},
   "cell_type": "markdown",
   "metadata": {},
   "source": [
    "## Задание 4.6"
   ]
  },
  {
   "cell_type": "code",
   "execution_count": 13,
   "metadata": {},
   "outputs": [
    {
     "name": "stdout",
     "output_type": "stream",
     "text": [
      "gold         4234.953594\n",
      "silver         49.593203\n",
      "platinum     1988.522578\n",
      "palladium    4679.690859\n",
      "dtype: float64\n",
      "        gold     silver  platinum    palladium  gold_usd  silver_usd  \\\n",
      "0    4784.40  58.700000   2183.31  5677.620000     61.38        0.75   \n",
      "1    4759.17  60.670000   2195.94  5662.270000     61.05        0.78   \n",
      "2    4729.52  60.930000   2179.19  5812.010000     60.67        0.78   \n",
      "3    4667.69  59.680000   2145.92  5813.410000     59.88        0.77   \n",
      "4    4673.64  60.850000   2189.85  4679.690859     59.96        0.78   \n",
      "..       ...        ...       ...          ...       ...         ...   \n",
      "123  4047.21  49.593203   1800.29  4298.850000     51.92        0.64   \n",
      "124  4023.90  35.700000   1794.33  4324.990000     51.62        0.46   \n",
      "125  4040.41  35.850000   1795.58  4221.390000     51.83        0.46   \n",
      "126  4014.11  35.860000   1819.12  4655.360000     51.50        0.46   \n",
      "127  4041.80  35.930000   1847.95  4638.830000     51.85        0.46   \n",
      "\n",
      "     platinum_usd  palladium_usd  \n",
      "0           28.01          72.84  \n",
      "1           28.17          72.64  \n",
      "2           27.96          74.56  \n",
      "3           27.53          74.58  \n",
      "4           28.09          60.03  \n",
      "..            ...            ...  \n",
      "123         23.10          55.15  \n",
      "124         23.02          55.48  \n",
      "125         23.04          54.16  \n",
      "126         23.34          59.72  \n",
      "127         23.71          59.51  \n",
      "\n",
      "[128 rows x 8 columns]\n"
     ]
    },
    {
     "name": "stderr",
     "output_type": "stream",
     "text": [
      "C:\\Users\\KMF\\AppData\\Local\\Temp\\ipykernel_8744\\2347944943.py:16: FutureWarning: Dropping of nuisance columns in DataFrame reductions (with 'numeric_only=None') is deprecated; in a future version this will raise TypeError.  Select only valid columns before calling the reduction.\n",
      "  sr=df.mean()\n"
     ]
    }
   ],
   "source": [
    "import pandas as pd \n",
    "df = pd.read_csv('precious_metal.csv', sep=';') \n",
    "\n",
    "\n",
    "df.set_axis(['gold', 'silver', 'platinum', 'palladium', 'date'], axis = 'columns', inplace = True)\n",
    "#print (df.info())\n",
    "df.isnull().sum()\n",
    "df = df.fillna(0)\n",
    "df['gold'] = df['gold'].apply(lambda x: float(str(x).replace(',','.'))) \n",
    "df['silver'] = df['silver'].apply(lambda x: float(str(x).replace(',','.'))) \n",
    "df['platinum'] = df['platinum'].apply(lambda x: float(str(x).replace(',','.'))) \n",
    "df['palladium'] = df['palladium'].apply(lambda x: float(str(x).replace(',','.'))) \n",
    "\n",
    "\n",
    "#print (df)\n",
    "sr=df.mean()\n",
    "print(sr)\n",
    "df=df.replace(0,sr)\n",
    "\n",
    "df.pop('date')\n",
    "\n",
    "df['gold_usd'] = round(df['gold']/77.95, 2)\n",
    "df['silver_usd'] = round(df['silver']/77.95, 2)\n",
    "df['platinum_usd'] = round(df['platinum']/77.95, 2)\n",
    "df['palladium_usd'] = round(df['palladium']/77.95, 2)\n",
    "print(df)\n",
    "\n"
   ]
  }
 ],
 "metadata": {
  "kernelspec": {
   "display_name": "Python 3",
   "language": "python",
   "name": "python3"
  },
  "language_info": {
   "codemirror_mode": {
    "name": "ipython",
    "version": 3
   },
   "file_extension": ".py",
   "mimetype": "text/x-python",
   "name": "python",
   "nbconvert_exporter": "python",
   "pygments_lexer": "ipython3",
   "version": "3.10.6"
  },
  "orig_nbformat": 4,
  "vscode": {
   "interpreter": {
    "hash": "46b0ae78ce8d2e6407bde63aa3aec804518bf8cfa8e47c740584ddbfbc18bb20"
   }
  }
 },
 "nbformat": 4,
 "nbformat_minor": 2
}

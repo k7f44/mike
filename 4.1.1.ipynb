{
 "cells": [
  {
   "attachments": {},
   "cell_type": "markdown",
   "metadata": {},
   "source": [
    "# 1. Среднее значение, медиана, мода и диапазон\n",
    "# 1.1"
   ]
  },
  {
   "cell_type": "code",
   "execution_count": 3,
   "metadata": {},
   "outputs": [
    {
     "name": "stdout",
     "output_type": "stream",
     "text": [
      "                date  temp  pressure  humidity\n",
      "0   31.12.2019 23:00  -9.2     743.1        76\n",
      "1   31.12.2019 20:00  -8.8     744.1        75\n",
      "2   31.12.2019 17:00  -7.9     744.5        82\n",
      "3   31.12.2019 14:00 -11.5     745.9        85\n",
      "4   31.12.2019 11:00 -12.8     749.0        84\n",
      "5   31.12.2019 08:00 -15.3     752.8        83\n",
      "6   31.12.2019 05:00 -18.4     757.6        80\n",
      "7   31.12.2019 02:00 -20.9     761.5        79\n",
      "8   30.12.2019 23:00 -21.4     764.2        78\n",
      "9   30.12.2019 20:00 -20.9     766.8        79\n",
      "10  30.12.2019 17:00 -18.3     768.4        79\n"
     ]
    }
   ],
   "source": [
    "import matplotlib.pyplot as plt \n",
    "import pandas as pd \n",
    "df = pd.read_csv('ekb_weather.csv') \n",
    "\n",
    "df=(df.loc [0:10])\n",
    "print (df)\n"
   ]
  },
  {
   "attachments": {},
   "cell_type": "markdown",
   "metadata": {},
   "source": [
    "## Задание 1.2"
   ]
  },
  {
   "cell_type": "code",
   "execution_count": 9,
   "metadata": {},
   "outputs": [
    {
     "name": "stdout",
     "output_type": "stream",
     "text": [
      "<class 'pandas.core.frame.DataFrame'>\n",
      "RangeIndex: 11 entries, 0 to 10\n",
      "Data columns (total 4 columns):\n",
      " #   Column    Non-Null Count  Dtype         \n",
      "---  ------    --------------  -----         \n",
      " 0   date      11 non-null     datetime64[ns]\n",
      " 1   temp      11 non-null     float64       \n",
      " 2   pressure  11 non-null     float64       \n",
      " 3   humidity  11 non-null     int64         \n",
      "dtypes: datetime64[ns](1), float64(2), int64(1)\n",
      "memory usage: 480.0 bytes\n",
      "None\n"
     ]
    }
   ],
   "source": [
    "import matplotlib.pyplot as plt \n",
    "import pandas as pd \n",
    "df = pd.read_csv('ekb_weather.csv') \n",
    "\n",
    "df=(df.loc [0:10])\n",
    "print (df.info())"
   ]
  },
  {
   "attachments": {},
   "cell_type": "markdown",
   "metadata": {},
   "source": [
    "## Задание 1.3"
   ]
  },
  {
   "cell_type": "code",
   "execution_count": 13,
   "metadata": {},
   "outputs": [
    {
     "name": "stdout",
     "output_type": "stream",
     "text": [
      "                    date  temp  pressure  humidity    month\n",
      "0    2019-12-31 23:00:00  -9.2     743.1        76  Декабрь\n",
      "1    2019-12-31 20:00:00  -8.8     744.1        75  Декабрь\n",
      "2    2019-12-31 17:00:00  -7.9     744.5        82  Декабрь\n",
      "3    2019-12-31 14:00:00 -11.5     745.9        85  Декабрь\n",
      "4    2019-12-31 11:00:00 -12.8     749.0        84  Декабрь\n",
      "...                  ...   ...       ...       ...      ...\n",
      "2914 2019-01-01 14:00:00 -10.6     770.8        71   Январь\n",
      "2915 2019-01-01 11:00:00 -11.9     771.3        75   Январь\n",
      "2916 2019-01-01 08:00:00 -12.8     770.9        75   Январь\n",
      "2917 2019-01-01 05:00:00 -12.8     770.9        75   Январь\n",
      "2918 2019-01-01 02:00:00 -11.8     770.6        75   Январь\n",
      "\n",
      "[2919 rows x 5 columns]\n"
     ]
    }
   ],
   "source": [
    "import matplotlib.pyplot as plt \n",
    "import pandas as pd \n",
    "df = pd.read_csv('ekb_weather.csv') \n",
    "\n",
    "df['date'] = pd.to_datetime(df['date'], format='%d.%m.%Y %H:%M') \n",
    "\n",
    "df['month']=pd.DatetimeIndex(df['date']).month\n",
    "months = {1:'Январь', 2:'Февраль', 3:'Март', 4:'Апрель', 5:'Май', 6:'Июнь', 7:'Июль', 8:'Август', 9:'Сентябрь', 10:'Октябрь', 11:'Ноябрь', 12:'Декабрь'}\n",
    "df['month'] = df['month'].apply(lambda i: months[i])\n",
    "print (df)"
   ]
  },
  {
   "attachments": {},
   "cell_type": "markdown",
   "metadata": {},
   "source": [
    "## Задание 1.4"
   ]
  },
  {
   "cell_type": "code",
   "execution_count": 54,
   "metadata": {},
   "outputs": [
    {
     "name": "stdout",
     "output_type": "stream",
     "text": [
      "Сред темп 3.9539225762247345\n",
      "Сред давл 761.4341329677861\n",
      "Сред влаж 66.2579650565262\n",
      "среднее значение температуры ниже в январе\n",
      "среднее значение давления ниже в ноября\n",
      "среднее значение влажности ниже в августе\n"
     ]
    }
   ],
   "source": [
    "import matplotlib.pyplot as plt  \n",
    "import pandas as pd  \n",
    "df = pd.read_csv('ekb_weather.csv')  \n",
    " \n",
    "df['date'] = pd.to_datetime(df['date'], format='%d.%m.%Y %H:%M')  \n",
    " \n",
    " \n",
    " \n",
    "df['month'] = pd.DatetimeIndex(df['date']).month \n",
    " \n",
    "months = {1:'Январь', 2:'Февраль', 3:'Март', 4:'Апрель', 5:'Май', 6:'Июнь', 7:'Июль', 8:'Август', 9:'Сентябрь', 10:'Октябрь', 11:'Ноябрь', 12:'Декабрь'} \n",
    "df['month'] = df['month'].apply(lambda i: months[i]) \n",
    "df.to_csv('new_precious_metal.csv') \n",
    "print('Сред темп', df['temp'].mean()) \n",
    "print('Сред давл',df['pressure'].mean()) \n",
    "print('Сред влаж',df['humidity'].mean()) \n",
    " \n",
    "df_new=df[df['month']=='Январь'] \n",
    "ynv=('ynv', df_new['temp'].mean()) \n",
    "\n",
    "\n",
    "df_new1=df[df['month']=='Декабрь'] \n",
    "dec=('dec', df_new1['temp'].mean()) \n",
    "\n",
    "if dec > ynv:\n",
    "    print ('среднее значение температуры ниже в декабре')\n",
    "else:\n",
    "    print ('среднее значение температуры ниже в январе')\n",
    "\n",
    "\n",
    "#ДАВЛЕНИЕ\n",
    "df_new=df[df['pressure']=='Апрель'] \n",
    "ynv=(df_new['pressure'].mean()) \n",
    "\n",
    "df_new1=df[df['pressure']=='Ноябрь'] \n",
    "dec=(df_new1['pressure'].mean()) \n",
    "\n",
    "if dec > ynv:\n",
    "    print ('среднее значение давления ниже в апреле')\n",
    "else:\n",
    "    print ('среднее значение давления ниже в ноября')\n",
    "\n",
    "\n",
    "#ВЛАЖНОСТЬ\n",
    "df_new=df[df['humidity']=='Июнь'] \n",
    "ynv=(df_new['humidity'].mean()) \n",
    "\n",
    "df_new1=df[df['humidity']=='Август'] \n",
    "dec=(df_new1['humidity'].mean()) \n",
    "\n",
    "if dec > ynv:\n",
    "    print ('среднее значение влажности ниже в июне')\n",
    "else:\n",
    "    print ('среднее значение влажности ниже в августе')"
   ]
  },
  {
   "attachments": {},
   "cell_type": "markdown",
   "metadata": {},
   "source": [
    "## Задание 1.5"
   ]
  },
  {
   "cell_type": "code",
   "execution_count": 112,
   "metadata": {},
   "outputs": [
    {
     "name": "stdout",
     "output_type": "stream",
     "text": [
      "sr znach [-11.375403225806451, -10.964285714285714, -1.1116935483870967, 3.9770833333333333, 13.212096774193549, 15.9375, 19.54596774193548, 15.552016129032257, 8.98625, 5.157661290322581, -5.685833333333333, -7.033603238866397]\n",
      "mediana [-11.375403225806451, -11.169844470046083, -10.964285714285714, -6.037989631336405, -1.1116935483870967, 1.4326948924731182, 3.9770833333333333, 8.594590053763442, 8.98625, 7.071955645161291, 5.157661290322581, 4.567372311827957]\n"
     ]
    },
    {
     "data": {
      "image/png": "[encoded data removed]",
      "text/plain": [
       "<Figure size 640x480 with 1 Axes>"
      ]
     },
     "metadata": {},
     "output_type": "display_data"
    },
    {
     "data": {
      "image/png": "[encoded data removed]",
      "text/plain": [
       "<Figure size 640x480 with 1 Axes>"
      ]
     },
     "metadata": {},
     "output_type": "display_data"
    },
    {
     "data": {
      "image/png": "[encoded data removed]",
      "text/plain": [
       "<Figure size 640x480 with 1 Axes>"
      ]
     },
     "metadata": {},
     "output_type": "display_data"
    }
   ],
   "source": [
    "import matplotlib.pyplot as plt  \n",
    "import pandas as pd  \n",
    "import statistics   \n",
    "import numpy as np \n",
    "\n",
    "df = pd.read_csv('ekb_weather.csv')  \n",
    "df['date'] = pd.to_datetime(df['date'], format='%d.%m.%Y %H:%M')  \n",
    "df['month'] = pd.DatetimeIndex(df['date']).month \n",
    "\n",
    "listn = []\n",
    "med = []\n",
    "\n",
    "\n",
    "for i in range (1, 13) : \n",
    "    df_new=df[df['month']==i] \n",
    "    b=(df_new['temp'].mean())\n",
    "    listn.append(b)\n",
    "    c=(np.median(listn)) \n",
    "    med.append(c)\n",
    "    if i==12:\n",
    "        moda=(statistics.multimode(listn))\n",
    "    \n",
    "\n",
    "print('sr znach',listn)\n",
    "print('mediana',med)\n",
    "\n",
    "\n",
    "x = [1,2,3,4,5,6,7,8,9,10,11,12] \n",
    "plt.bar(x, listn, color='r')\n",
    "plt.show() \n",
    "\n",
    "x = [1,2,3,4,5,6,7,8,9,10,11,12] \n",
    "plt.bar(x, med, color='r')\n",
    "plt.show() \n",
    "\n",
    "x = [1,2,3,4,5,6,7,8,9,10,11,12] \n",
    "plt.bar(x, moda, color='r')\n",
    "plt.show() \n"
   ]
  }
 ],
 "metadata": {
  "kernelspec": {
   "display_name": "Python 3",
   "language": "python",
   "name": "python3"
  },
  "language_info": {
   "codemirror_mode": {
    "name": "ipython",
    "version": 3
   },
   "file_extension": ".py",
   "mimetype": "text/x-python",
   "name": "python",
   "nbconvert_exporter": "python",
   "pygments_lexer": "ipython3",
   "version": "3.10.6"
  },
  "orig_nbformat": 4
 },
 "nbformat": 4,
 "nbformat_minor": 2
}

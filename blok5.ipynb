{
 "cells": [
  {
   "attachments": {},
   "cell_type": "markdown",
   "metadata": {},
   "source": [
    "# Блок 5"
   ]
  },
  {
   "attachments": {},
   "cell_type": "markdown",
   "metadata": {},
   "source": [
    "## задание 5.1"
   ]
  },
  {
   "cell_type": "code",
   "execution_count": 9,
   "metadata": {},
   "outputs": [
    {
     "name": "stdout",
     "output_type": "stream",
     "text": [
      "        gold  gold_usd  silver  silver_usd  platinum  platinum_usd  palladium  \\\n",
      "0    4784.40     60.18   58.70        0.74   2183.31         27.46    5677.62   \n",
      "1    4759.17     59.86   60.67        0.76   2195.94         27.62    5662.27   \n",
      "2    4729.52     59.49   60.93        0.77   2179.19         27.41    5812.01   \n",
      "3    4667.69     58.71   59.68        0.75   2145.92         26.99    5813.41   \n",
      "4    4673.64     58.79   60.85        0.77   2189.85         27.55       0.00   \n",
      "..       ...       ...     ...         ...       ...           ...        ...   \n",
      "123  4047.21     50.91    0.00        0.00   1800.29         22.65    4298.85   \n",
      "124  4023.90     50.62   35.70        0.45   1794.33         22.57    4324.99   \n",
      "125  4040.41     50.82   35.85        0.45   1795.58         22.59    4221.39   \n",
      "126  4014.11     50.49   35.86        0.45   1819.12         22.88    4655.36   \n",
      "127  4041.80     50.84   35.93        0.45   1847.95         23.24    4638.83   \n",
      "\n",
      "     palladium_usd             date  \n",
      "0            71.42  31.10.2020 0:00  \n",
      "1            71.22  30.10.2020 0:00  \n",
      "2            73.11  29.10.2020 0:00  \n",
      "3            73.12  28.10.2020 0:00  \n",
      "4             0.00  27.10.2020 0:00  \n",
      "..             ...              ...  \n",
      "123          54.07  09.05.2020 0:00  \n",
      "124          54.40  08.05.2020 0:00  \n",
      "125          53.10  07.05.2020 0:00  \n",
      "126          58.56  01.05.2020 0:00  \n",
      "127          58.35  30.04.2020 0:00  \n",
      "\n",
      "[128 rows x 9 columns]\n"
     ]
    }
   ],
   "source": [
    "import pandas as pd \n",
    "df = pd.read_csv('precious_metal_new.csv') \n",
    "df = df.loc[:,['gold', 'gold_usd', 'silver', 'silver_usd', \n",
    " 'platinum', 'platinum_usd', 'palladium', 'palladium_usd', \n",
    " 'date']]\n",
    "print(df)\n"
   ]
  },
  {
   "attachments": {},
   "cell_type": "markdown",
   "metadata": {},
   "source": [
    "## задание 5.2"
   ]
  },
  {
   "cell_type": "code",
   "execution_count": 10,
   "metadata": {},
   "outputs": [
    {
     "name": "stdout",
     "output_type": "stream",
     "text": [
      "        gold  gold_usd  silver  silver_usd  platinum  platinum_usd  palladium  \\\n",
      "0    4784.40     60.18   58.70        0.74   2183.31         27.46    5677.62   \n",
      "1    4759.17     59.86   60.67        0.76   2195.94         27.62    5662.27   \n",
      "2    4729.52     59.49   60.93        0.77   2179.19         27.41    5812.01   \n",
      "3    4667.69     58.71   59.68        0.75   2145.92         26.99    5813.41   \n",
      "4    4673.64     58.79   60.85        0.77   2189.85         27.55       0.00   \n",
      "..       ...       ...     ...         ...       ...           ...        ...   \n",
      "123  4047.21     50.91    0.00        0.00   1800.29         22.65    4298.85   \n",
      "124  4023.90     50.62   35.70        0.45   1794.33         22.57    4324.99   \n",
      "125  4040.41     50.82   35.85        0.45   1795.58         22.59    4221.39   \n",
      "126  4014.11     50.49   35.86        0.45   1819.12         22.88    4655.36   \n",
      "127  4041.80     50.84   35.93        0.45   1847.95         23.24    4638.83   \n",
      "\n",
      "     palladium_usd       date  \n",
      "0            71.42 2020-10-31  \n",
      "1            71.22 2020-10-30  \n",
      "2            73.11 2020-10-29  \n",
      "3            73.12 2020-10-28  \n",
      "4             0.00 2020-10-27  \n",
      "..             ...        ...  \n",
      "123          54.07 2020-05-09  \n",
      "124          54.40 2020-05-08  \n",
      "125          53.10 2020-05-07  \n",
      "126          58.56 2020-05-01  \n",
      "127          58.35 2020-04-30  \n",
      "\n",
      "[128 rows x 9 columns]\n"
     ]
    }
   ],
   "source": [
    "import pandas as pd \n",
    "df = pd.read_csv('precious_metal_new.csv') \n",
    "df = df.loc[:,['gold', 'gold_usd', 'silver', 'silver_usd', \n",
    " 'platinum', 'platinum_usd', 'palladium', 'palladium_usd', \n",
    " 'date']]\n",
    "df['date'] = pd.to_datetime(df['date'], format='%d.%m.%Y %H:%M') \n",
    "print(df)"
   ]
  },
  {
   "cell_type": "code",
   "execution_count": null,
   "metadata": {},
   "outputs": [],
   "source": [
    "import pandas as pd \n",
    "df = pd.read_csv('precious_metal_new.csv') \n",
    "df = df.loc[:,['gold', 'gold_usd', 'silver', 'silver_usd', \n",
    " 'platinum', 'platinum_usd', 'palladium', 'palladium_usd', \n",
    " 'date']]\n",
    "df['date'] = pd.to_datetime(df['date'], format='%d.%m.%Y %H:%M') \n",
    "print(df)\n",
    "\n"
   ]
  }
 ],
 "metadata": {
  "kernelspec": {
   "display_name": "Python 3",
   "language": "python",
   "name": "python3"
  },
  "language_info": {
   "codemirror_mode": {
    "name": "ipython",
    "version": 3
   },
   "file_extension": ".py",
   "mimetype": "text/x-python",
   "name": "python",
   "nbconvert_exporter": "python",
   "pygments_lexer": "ipython3",
   "version": "3.10.6"
  },
  "orig_nbformat": 4
 },
 "nbformat": 4,
 "nbformat_minor": 2
}

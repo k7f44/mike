{
 "cells": [
  {
   "attachments": {},
   "cell_type": "markdown",
   "metadata": {},
   "source": [
    "# Блок 5"
   ]
  },
  {
   "attachments": {},
   "cell_type": "markdown",
   "metadata": {},
   "source": [
    "## задание 5.1"
   ]
  },
  {
   "cell_type": "code",
   "execution_count": 12,
   "metadata": {},
   "outputs": [
    {
     "name": "stdout",
     "output_type": "stream",
     "text": [
      "        gold  gold_usd  silver  silver_usd  platinum  platinum_usd  palladium  \\\n",
      "0    4784.40     60.18   58.70        0.74   2183.31         27.46    5677.62   \n",
      "1    4759.17     59.86   60.67        0.76   2195.94         27.62    5662.27   \n",
      "2    4729.52     59.49   60.93        0.77   2179.19         27.41    5812.01   \n",
      "3    4667.69     58.71   59.68        0.75   2145.92         26.99    5813.41   \n",
      "4    4673.64     58.79   60.85        0.77   2189.85         27.55       0.00   \n",
      "..       ...       ...     ...         ...       ...           ...        ...   \n",
      "123  4047.21     50.91    0.00        0.00   1800.29         22.65    4298.85   \n",
      "124  4023.90     50.62   35.70        0.45   1794.33         22.57    4324.99   \n",
      "125  4040.41     50.82   35.85        0.45   1795.58         22.59    4221.39   \n",
      "126  4014.11     50.49   35.86        0.45   1819.12         22.88    4655.36   \n",
      "127  4041.80     50.84   35.93        0.45   1847.95         23.24    4638.83   \n",
      "\n",
      "     palladium_usd             date  \n",
      "0            71.42  31.10.2020 0:00  \n",
      "1            71.22  30.10.2020 0:00  \n",
      "2            73.11  29.10.2020 0:00  \n",
      "3            73.12  28.10.2020 0:00  \n",
      "4             0.00  27.10.2020 0:00  \n",
      "..             ...              ...  \n",
      "123          54.07  09.05.2020 0:00  \n",
      "124          54.40  08.05.2020 0:00  \n",
      "125          53.10  07.05.2020 0:00  \n",
      "126          58.56  01.05.2020 0:00  \n",
      "127          58.35  30.04.2020 0:00  \n",
      "\n",
      "[128 rows x 9 columns]\n"
     ]
    }
   ],
   "source": [
    "import pandas as pd \n",
    "df = pd.read_csv('precious_metal_new.csv') \n",
    "df = df.loc[:,['gold', 'gold_usd', 'silver', 'silver_usd', \n",
    " 'platinum', 'platinum_usd', 'palladium', 'palladium_usd', \n",
    " 'date']]\n",
    "print(df)\n"
   ]
  },
  {
   "attachments": {},
   "cell_type": "markdown",
   "metadata": {},
   "source": [
    "## задание 5.2"
   ]
  },
  {
   "cell_type": "code",
   "execution_count": 16,
   "metadata": {},
   "outputs": [
    {
     "name": "stdout",
     "output_type": "stream",
     "text": [
      "        gold  gold_usd  silver  silver_usd  platinum  platinum_usd  palladium  \\\n",
      "0    4784.40     60.18   58.70        0.74   2183.31         27.46    5677.62   \n",
      "1    4759.17     59.86   60.67        0.76   2195.94         27.62    5662.27   \n",
      "2    4729.52     59.49   60.93        0.77   2179.19         27.41    5812.01   \n",
      "3    4667.69     58.71   59.68        0.75   2145.92         26.99    5813.41   \n",
      "4    4673.64     58.79   60.85        0.77   2189.85         27.55       0.00   \n",
      "..       ...       ...     ...         ...       ...           ...        ...   \n",
      "123  4047.21     50.91    0.00        0.00   1800.29         22.65    4298.85   \n",
      "124  4023.90     50.62   35.70        0.45   1794.33         22.57    4324.99   \n",
      "125  4040.41     50.82   35.85        0.45   1795.58         22.59    4221.39   \n",
      "126  4014.11     50.49   35.86        0.45   1819.12         22.88    4655.36   \n",
      "127  4041.80     50.84   35.93        0.45   1847.95         23.24    4638.83   \n",
      "\n",
      "     palladium_usd       date  \n",
      "0            71.42 2020-10-31  \n",
      "1            71.22 2020-10-30  \n",
      "2            73.11 2020-10-29  \n",
      "3            73.12 2020-10-28  \n",
      "4             0.00 2020-10-27  \n",
      "..             ...        ...  \n",
      "123          54.07 2020-05-09  \n",
      "124          54.40 2020-05-08  \n",
      "125          53.10 2020-05-07  \n",
      "126          58.56 2020-05-01  \n",
      "127          58.35 2020-04-30  \n",
      "\n",
      "[128 rows x 9 columns]\n",
      "<class 'pandas.core.frame.DataFrame'>\n",
      "RangeIndex: 128 entries, 0 to 127\n",
      "Data columns (total 9 columns):\n",
      " #   Column         Non-Null Count  Dtype         \n",
      "---  ------         --------------  -----         \n",
      " 0   gold           128 non-null    float64       \n",
      " 1   gold_usd       128 non-null    float64       \n",
      " 2   silver         128 non-null    float64       \n",
      " 3   silver_usd     128 non-null    float64       \n",
      " 4   platinum       128 non-null    float64       \n",
      " 5   platinum_usd   128 non-null    float64       \n",
      " 6   palladium      128 non-null    float64       \n",
      " 7   palladium_usd  128 non-null    float64       \n",
      " 8   date           128 non-null    datetime64[ns]\n",
      "dtypes: datetime64[ns](1), float64(8)\n",
      "memory usage: 9.1 KB\n",
      "None\n"
     ]
    }
   ],
   "source": [
    "import pandas as pd \n",
    "df = pd.read_csv('precious_metal_new.csv') \n",
    "df = df.loc[:,['gold', 'gold_usd', 'silver', 'silver_usd', \n",
    " 'platinum', 'platinum_usd', 'palladium', 'palladium_usd', \n",
    " 'date']]\n",
    "df['date'] = pd.to_datetime(df['date'], format='%d.%m.%Y %H:%M') \n",
    "print(df)\n",
    "print(df.info())"
   ]
  },
  {
   "attachments": {},
   "cell_type": "markdown",
   "metadata": {},
   "source": [
    "## Задание 5.3"
   ]
  },
  {
   "cell_type": "code",
   "execution_count": 38,
   "metadata": {},
   "outputs": [
    {
     "name": "stdout",
     "output_type": "stream",
     "text": [
      "        gold  gold_usd  silver  silver_usd  platinum  platinum_usd  palladium  \\\n",
      "0    4784.40     60.18   58.70        0.74   2183.31         27.46    5677.62   \n",
      "1    4759.17     59.86   60.67        0.76   2195.94         27.62    5662.27   \n",
      "2    4729.52     59.49   60.93        0.77   2179.19         27.41    5812.01   \n",
      "3    4667.69     58.71   59.68        0.75   2145.92         26.99    5813.41   \n",
      "4    4673.64     58.79   60.85        0.77   2189.85         27.55       0.00   \n",
      "..       ...       ...     ...         ...       ...           ...        ...   \n",
      "123  4047.21     50.91    0.00        0.00   1800.29         22.65    4298.85   \n",
      "124  4023.90     50.62   35.70        0.45   1794.33         22.57    4324.99   \n",
      "125  4040.41     50.82   35.85        0.45   1795.58         22.59    4221.39   \n",
      "126  4014.11     50.49   35.86        0.45   1819.12         22.88    4655.36   \n",
      "127  4041.80     50.84   35.93        0.45   1847.95         23.24    4638.83   \n",
      "\n",
      "     palladium_usd       date    month  \n",
      "0            71.42 2020-10-31  Октябрь  \n",
      "1            71.22 2020-10-30  Октябрь  \n",
      "2            73.11 2020-10-29  Октябрь  \n",
      "3            73.12 2020-10-28  Октябрь  \n",
      "4             0.00 2020-10-27  Октябрь  \n",
      "..             ...        ...      ...  \n",
      "123          54.07 2020-05-09      Май  \n",
      "124          54.40 2020-05-08      Май  \n",
      "125          53.10 2020-05-07      Май  \n",
      "126          58.56 2020-05-01      Май  \n",
      "127          58.35 2020-04-30   Апрель  \n",
      "\n",
      "[128 rows x 10 columns]\n"
     ]
    }
   ],
   "source": [
    "import pandas as pd \n",
    "df = pd.read_csv('precious_metal_new.csv') \n",
    "df = df.loc[:,['gold', 'gold_usd', 'silver', 'silver_usd', \n",
    " 'platinum', 'platinum_usd', 'palladium', 'palladium_usd', \n",
    " 'date']]\n",
    "df['date'] = pd.to_datetime(df['date'], format='%d.%m.%Y %H:%M') \n",
    "\n",
    "df['month']=pd.DatetimeIndex(df['date']).month\n",
    "months = {1:'Январь', 2:'Февраль', 3:'Март', 4:'Апрель', 5:'Май', 6:'Июнь', 7:'Июль', 8:'Август', 9:'Сентябрь', 10:'Октябрь', 11:'Ноябрь', 12:'Декабрь'}\n",
    "df['month'] = df['month'].apply(lambda i: months[i])\n",
    "print(df)"
   ]
  },
  {
   "attachments": {},
   "cell_type": "markdown",
   "metadata": {},
   "source": [
    "## Задание 5.4"
   ]
  },
  {
   "cell_type": "code",
   "execution_count": 50,
   "metadata": {},
   "outputs": [
    {
     "name": "stdout",
     "output_type": "stream",
     "text": [
      "        gold  gold_usd  silver  silver_usd  platinum  platinum_usd  palladium  \\\n",
      "109  3925.38     49.38   40.01        0.50   1910.77         24.03    4369.75   \n",
      "110  3939.39     49.55    0.00        0.00   1911.06         24.04    4434.75   \n",
      "111  3895.83     49.00   39.27        0.49   1898.62         23.88    4489.52   \n",
      "112  3940.32     49.56   39.57        0.50   1914.41         24.08    4476.11   \n",
      "113  3990.41     50.19    0.00        0.00   1922.06         24.18    4408.08   \n",
      "114  4003.70     50.36   39.29        0.49   1915.82         24.10    4575.79   \n",
      "115  3951.23     49.70   39.23        0.49   1922.26         24.18    4647.17   \n",
      "116  4070.13     51.20   40.63        0.51   1976.86         24.87    4809.59   \n",
      "117  4038.71     50.80   39.85        0.50   1875.92         23.60    4633.95   \n",
      "118  4122.31     51.85   40.71        0.51   1914.62         24.08    4505.00   \n",
      "119  4083.17     51.36    0.00        0.00   1821.70         22.91    4295.34   \n",
      "120  4079.71     51.32   36.91        0.46   1818.33         22.87    4302.18   \n",
      "121  4021.35     50.58   36.81        0.46   1797.94         22.62    4341.08   \n",
      "122  4021.69     50.59   36.56        0.46   1810.82         22.78    4403.10   \n",
      "123  4047.21     50.91    0.00        0.00   1800.29         22.65    4298.85   \n",
      "124  4023.90     50.62   35.70        0.45   1794.33         22.57    4324.99   \n",
      "125  4040.41     50.82   35.85        0.45   1795.58         22.59    4221.39   \n",
      "126  4014.11     50.49   35.86        0.45   1819.12         22.88    4655.36   \n",
      "\n",
      "     palladium_usd       date month  \n",
      "109          54.97 2020-05-30   Май  \n",
      "110          55.78 2020-05-29   Май  \n",
      "111          56.47 2020-05-28   Май  \n",
      "112          56.30 2020-05-27   Май  \n",
      "113          55.45 2020-05-26   Май  \n",
      "114          57.56 2020-05-23   Май  \n",
      "115          58.45 2020-05-22   Май  \n",
      "116          60.50 2020-05-21   Май  \n",
      "117          58.29 2020-05-20   Май  \n",
      "118          56.67 2020-05-19   Май  \n",
      "119          54.03 2020-05-16   Май  \n",
      "120          54.12 2020-05-15   Май  \n",
      "121          54.60 2020-05-14   Май  \n",
      "122          55.38 2020-05-13   Май  \n",
      "123          54.07 2020-05-09   Май  \n",
      "124          54.40 2020-05-08   Май  \n",
      "125          53.10 2020-05-07   Май  \n",
      "126          58.56 2020-05-01   Май  \n"
     ]
    }
   ],
   "source": [
    "import pandas as pd \n",
    "df = pd.read_csv('precious_metal_new.csv') \n",
    "df = df.loc[:,['gold', 'gold_usd', 'silver', 'silver_usd', \n",
    " 'platinum', 'platinum_usd', 'palladium', 'palladium_usd', \n",
    " 'date']]\n",
    "df['date'] = pd.to_datetime(df['date'], format='%d.%m.%Y %H:%M') \n",
    "\n",
    "df['month']=pd.DatetimeIndex(df['date']).month\n",
    "months = {1:'Январь', 2:'Февраль', 3:'Март', 4:'Апрель', 5:'Май', 6:'Июнь', 7:'Июль', 8:'Август', 9:'Сентябрь', 10:'Октябрь', 11:'Ноябрь', 12:'Декабрь'}\n",
    "df['month'] = df['month'].apply(lambda i: months[i])\n",
    "#print(df)\n",
    "\n",
    "#__________________________________________________________\n",
    "fn = df[df[\"month\"] == 'Май']\n",
    "print(fn)\n"
   ]
  }
 ],
 "metadata": {
  "kernelspec": {
   "display_name": "Python 3",
   "language": "python",
   "name": "python3"
  },
  "language_info": {
   "codemirror_mode": {
    "name": "ipython",
    "version": 3
   },
   "file_extension": ".py",
   "mimetype": "text/x-python",
   "name": "python",
   "nbconvert_exporter": "python",
   "pygments_lexer": "ipython3",
   "version": "3.10.6"
  },
  "orig_nbformat": 4
 },
 "nbformat": 4,
 "nbformat_minor": 2
}

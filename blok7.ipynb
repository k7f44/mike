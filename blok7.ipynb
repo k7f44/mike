{
 "cells": [
  {
   "attachments": {},
   "cell_type": "markdown",
   "metadata": {},
   "source": [
    "## Блок 7\n",
    "\n",
    "### Сбор и хранение данных \n",
    "#### Задание 1.1"
   ]
  },
  {
   "cell_type": "code",
   "execution_count": 23,
   "metadata": {},
   "outputs": [
    {
     "name": "stdout",
     "output_type": "stream",
     "text": [
      "   id  sepal_len  sepal_wd  petal_len  petal_wd      species\n",
      "0   0        5.1       3.5        1.4       0.2  iris-setosa\n",
      "1   1        4.9       3.0        1.4       0.2  iris-setosa\n",
      "2   2        4.7       3.2        1.3       0.2  iris-setosa\n",
      "3   3        4.6       3.1        1.5       0.2  iris-setosa\n",
      "4   4        5.0       3.6        1.4       0.2  iris-setosa\n",
      "5   5        5.4       3.9        1.7       0.4  iris-setosa\n",
      "6   6        4.6       3.4        1.4       0.3  iris-setosa\n",
      "7   7        5.0       3.4        1.5       0.2  iris-setosa\n",
      "8   8        4.4       2.9        1.4       0.2  iris-setosa\n",
      "9   9        4.9       3.1        1.5       0.1  iris-setosa\n",
      "<class 'pandas.core.frame.DataFrame'>\n",
      "RangeIndex: 150 entries, 0 to 149\n",
      "Data columns (total 6 columns):\n",
      " #   Column     Non-Null Count  Dtype  \n",
      "---  ------     --------------  -----  \n",
      " 0   id         150 non-null    int64  \n",
      " 1   sepal_len  150 non-null    float64\n",
      " 2   sepal_wd   150 non-null    float64\n",
      " 3   petal_len  150 non-null    float64\n",
      " 4   petal_wd   150 non-null    float64\n",
      " 5   species    150 non-null    object \n",
      "dtypes: float64(4), int64(1), object(1)\n",
      "memory usage: 7.2+ KB\n",
      "None\n",
      "['iris-setosa' 'iris-versicolor' 'iris-virginica']\n",
      "11\n",
      "15\n",
      "14\n"
     ]
    }
   ],
   "source": [
    "import pandas as pd \n",
    "df = pd.read_csv('iris.csv') \n",
    "print(df[0:10])\n",
    "print (df.info())\n",
    "#var_flower = {'iris-setosa': 0, 'iris-versicolor': 1, 'iris-virginica': 2} \n",
    "#df['species'] = df['species'].map(var_flower)\n",
    "print (df['species'].unique())\n",
    "print(len('iris-setosa'))\n",
    "print(len('iris-versicolor'))\n",
    "print(len('iris-virginica'))"
   ]
  },
  {
   "attachments": {},
   "cell_type": "markdown",
   "metadata": {},
   "source": [
    "### Задание 1.2"
   ]
  },
  {
   "cell_type": "code",
   "execution_count": 24,
   "metadata": {},
   "outputs": [
    {
     "name": "stdout",
     "output_type": "stream",
     "text": [
      "      id  sepal_len  sepal_wd  petal_len  petal_wd  species\n",
      "0      0        5.1       3.5        1.4       0.2        0\n",
      "1      1        4.9       3.0        1.4       0.2        0\n",
      "2      2        4.7       3.2        1.3       0.2        0\n",
      "3      3        4.6       3.1        1.5       0.2        0\n",
      "4      4        5.0       3.6        1.4       0.2        0\n",
      "..   ...        ...       ...        ...       ...      ...\n",
      "145  145        6.7       3.0        5.2       2.3        2\n",
      "146  146        6.3       2.5        5.0       1.9        2\n",
      "147  147        6.5       3.0        5.2       2.0        2\n",
      "148  148        6.2       3.4        5.4       2.3        2\n",
      "149  149        5.9       3.0        5.1       1.8        2\n",
      "\n",
      "[150 rows x 6 columns]\n"
     ]
    }
   ],
   "source": [
    "import pandas as pd \n",
    "df = pd.read_csv('iris.csv') \n",
    "var_flower = {'iris-setosa': 0, 'iris-versicolor': 1, 'iris-virginica': 2} \n",
    "df['species'] = df['species'].map(var_flower)\n",
    "print(df)"
   ]
  },
  {
   "attachments": {},
   "cell_type": "markdown",
   "metadata": {},
   "source": [
    "### Задание 1.3"
   ]
  },
  {
   "cell_type": "code",
   "execution_count": 37,
   "metadata": {},
   "outputs": [
    {
     "name": "stdout",
     "output_type": "stream",
     "text": [
      "    id  sepal_len  sepal_wd  petal_len  petal_wd  species\n",
      "0    0        5.1       3.5        1.4       0.2        0\n",
      "1    1        4.9       3.0        1.4       0.2        0\n",
      "2    2        4.7       3.2        1.3       0.2        0\n",
      "3    3        4.6       3.1        1.5       0.2        0\n",
      "4    4        5.0       3.6        1.4       0.2        0\n",
      "5    5        5.4       3.9        1.7       0.4        0\n",
      "6    6        4.6       3.4        1.4       0.3        0\n",
      "7    7        5.0       3.4        1.5       0.2        0\n",
      "8    8        4.4       2.9        1.4       0.2        0\n",
      "9    9        4.9       3.1        1.5       0.1        0\n",
      "10  10        5.4       3.7        1.5       0.2        0\n",
      "11  11        4.8       3.4        1.6       0.2        0\n",
      "12  12        4.8       3.0        1.4       0.1        0\n",
      "13  13        4.3       3.0        1.1       0.1        0\n",
      "14  14        5.8       4.0        1.2       0.2        0\n",
      "15  15        5.7       4.4        1.5       0.4        0\n",
      "16  16        5.4       3.9        1.3       0.4        0\n",
      "17  17        5.1       3.5        1.4       0.3        0\n",
      "18  18        5.7       3.8        1.7       0.3        0\n",
      "19  19        5.1       3.8        1.5       0.3        0\n",
      "20  20        5.4       3.4        1.7       0.2        0\n",
      "21  21        5.1       3.7        1.5       0.4        0\n",
      "22  22        4.6       3.6        1.0       0.2        0\n",
      "23  23        5.1       3.3        1.7       0.5        0\n",
      "24  24        4.8       3.4        1.9       0.2        0\n",
      "25  25        5.0       3.0        1.6       0.2        0\n",
      "26  26        5.0       3.4        1.6       0.4        0\n",
      "27  27        5.2       3.5        1.5       0.2        0\n",
      "28  28        5.2       3.4        1.4       0.2        0\n",
      "29  29        4.7       3.2        1.6       0.2        0\n",
      "30  30        4.8       3.1        1.6       0.2        0\n",
      "31  31        5.4       3.4        1.5       0.4        0\n",
      "32  32        5.2       4.1        1.5       0.1        0\n",
      "33  33        5.5       4.2        1.4       0.2        0\n",
      "34  34        4.9       3.1        1.5       0.2        0\n",
      "35  35        5.0       3.2        1.2       0.2        0\n",
      "36  36        5.5       3.5        1.3       0.2        0\n",
      "37  37        4.9       3.6        1.4       0.1        0\n",
      "38  38        4.4       3.0        1.3       0.2        0\n",
      "39  39        5.1       3.4        1.5       0.2        0\n",
      "40  40        5.0       3.5        1.3       0.3        0\n",
      "41  41        4.5       2.3        1.3       0.3        0\n",
      "42  42        4.4       3.2        1.3       0.2        0\n",
      "43  43        5.0       3.5        1.6       0.6        0\n",
      "44  44        5.1       3.8        1.9       0.4        0\n",
      "45  45        4.8       3.0        1.4       0.3        0\n",
      "46  46        5.1       3.8        1.6       0.2        0\n",
      "47  47        4.6       3.2        1.4       0.2        0\n",
      "48  48        5.3       3.7        1.5       0.2        0\n",
      "49  49        5.0       3.3        1.4       0.2        0\n",
      "    id  sepal_len  sepal_wd  petal_len  petal_wd  species\n",
      "50  50        7.0       3.2        4.7       1.4        1\n",
      "51  51        6.4       3.2        4.5       1.5        1\n",
      "52  52        6.9       3.1        4.9       1.5        1\n",
      "53  53        5.5       2.3        4.0       1.3        1\n",
      "54  54        6.5       2.8        4.6       1.5        1\n",
      "55  55        5.7       2.8        4.5       1.3        1\n",
      "56  56        6.3       3.3        4.7       1.6        1\n",
      "57  57        4.9       2.4        3.3       1.0        1\n",
      "58  58        6.6       2.9        4.6       1.3        1\n",
      "59  59        5.2       2.7        3.9       1.4        1\n",
      "60  60        5.0       2.0        3.5       1.0        1\n",
      "61  61        5.9       3.0        4.2       1.5        1\n",
      "62  62        6.0       2.2        4.0       1.0        1\n",
      "63  63        6.1       2.9        4.7       1.4        1\n",
      "64  64        5.6       2.9        3.6       1.3        1\n",
      "65  65        6.7       3.1        4.4       1.4        1\n",
      "66  66        5.6       3.0        4.5       1.5        1\n",
      "67  67        5.8       2.7        4.1       1.0        1\n",
      "68  68        6.2       2.2        4.5       1.5        1\n",
      "69  69        5.6       2.5        3.9       1.1        1\n",
      "70  70        5.9       3.2        4.8       1.8        1\n",
      "71  71        6.1       2.8        4.0       1.3        1\n",
      "72  72        6.3       2.5        4.9       1.5        1\n",
      "73  73        6.1       2.8        4.7       1.2        1\n",
      "74  74        6.4       2.9        4.3       1.3        1\n",
      "75  75        6.6       3.0        4.4       1.4        1\n",
      "76  76        6.8       2.8        4.8       1.4        1\n",
      "77  77        6.7       3.0        5.0       1.7        1\n",
      "78  78        6.0       2.9        4.5       1.5        1\n",
      "79  79        5.7       2.6        3.5       1.0        1\n",
      "80  80        5.5       2.4        3.8       1.1        1\n",
      "81  81        5.5       2.4        3.7       1.0        1\n",
      "82  82        5.8       2.7        3.9       1.2        1\n",
      "83  83        6.0       2.7        5.1       1.6        1\n",
      "84  84        5.4       3.0        4.5       1.5        1\n",
      "85  85        6.0       3.4        4.5       1.6        1\n",
      "86  86        6.7       3.1        4.7       1.5        1\n",
      "87  87        6.3       2.3        4.4       1.3        1\n",
      "88  88        5.6       3.0        4.1       1.3        1\n",
      "89  89        5.5       2.5        4.0       1.3        1\n",
      "90  90        5.5       2.6        4.4       1.2        1\n",
      "91  91        6.1       3.0        4.6       1.4        1\n",
      "92  92        5.8       2.6        4.0       1.2        1\n",
      "93  93        5.0       2.3        3.3       1.0        1\n",
      "94  94        5.6       2.7        4.2       1.3        1\n",
      "95  95        5.7       3.0        4.2       1.2        1\n",
      "96  96        5.7       2.9        4.2       1.3        1\n",
      "97  97        6.2       2.9        4.3       1.3        1\n",
      "98  98        5.1       2.5        3.0       1.1        1\n",
      "99  99        5.7       2.8        4.1       1.3        1\n",
      "      id  sepal_len  sepal_wd  petal_len  petal_wd  species\n",
      "100  100        6.3       3.3        6.0       2.5        2\n",
      "101  101        5.8       2.7        5.1       1.9        2\n",
      "102  102        7.1       3.0        5.9       2.1        2\n",
      "103  103        6.3       2.9        5.6       1.8        2\n",
      "104  104        6.5       3.0        5.8       2.2        2\n",
      "105  105        7.6       3.0        6.6       2.1        2\n",
      "106  106        4.9       2.5        4.5       1.7        2\n",
      "107  107        7.3       2.9        6.3       1.8        2\n",
      "108  108        6.7       2.5        5.8       1.8        2\n",
      "109  109        7.2       3.6        6.1       2.5        2\n",
      "110  110        6.5       3.2        5.1       2.0        2\n",
      "111  111        6.4       2.7        5.3       1.9        2\n",
      "112  112        6.8       3.0        5.5       2.1        2\n",
      "113  113        5.7       2.5        5.0       2.0        2\n",
      "114  114        5.8       2.8        5.1       2.4        2\n",
      "115  115        6.4       3.2        5.3       2.3        2\n",
      "116  116        6.5       3.0        5.5       1.8        2\n",
      "117  117        7.7       3.8        6.7       2.2        2\n",
      "118  118        7.7       2.6        6.9       2.3        2\n",
      "119  119        6.0       2.2        5.0       1.5        2\n",
      "120  120        6.9       3.2        5.7       2.3        2\n",
      "121  121        5.6       2.8        4.9       2.0        2\n",
      "122  122        7.7       2.8        6.7       2.0        2\n",
      "123  123        6.3       2.7        4.9       1.8        2\n",
      "124  124        6.7       3.3        5.7       2.1        2\n",
      "125  125        7.2       3.2        6.0       1.8        2\n",
      "126  126        6.2       2.8        4.8       1.8        2\n",
      "127  127        6.1       3.0        4.9       1.8        2\n",
      "128  128        6.4       2.8        5.6       2.1        2\n",
      "129  129        7.2       3.0        5.8       1.6        2\n",
      "130  130        7.4       2.8        6.1       1.9        2\n",
      "131  131        7.9       3.8        6.4       2.0        2\n",
      "132  132        6.4       2.8        5.6       2.2        2\n",
      "133  133        6.3       2.8        5.1       1.5        2\n",
      "134  134        6.1       2.6        5.6       1.4        2\n",
      "135  135        7.7       3.0        6.1       2.3        2\n",
      "136  136        6.3       3.4        5.6       2.4        2\n",
      "137  137        6.4       3.1        5.5       1.8        2\n",
      "138  138        6.0       3.0        4.8       1.8        2\n",
      "139  139        6.9       3.1        5.4       2.1        2\n",
      "140  140        6.7       3.1        5.6       2.4        2\n",
      "141  141        6.9       3.1        5.1       2.3        2\n",
      "142  142        5.8       2.7        5.1       1.9        2\n",
      "143  143        6.8       3.2        5.9       2.3        2\n",
      "144  144        6.7       3.3        5.7       2.5        2\n",
      "145  145        6.7       3.0        5.2       2.3        2\n",
      "146  146        6.3       2.5        5.0       1.9        2\n",
      "147  147        6.5       3.0        5.2       2.0        2\n",
      "148  148        6.2       3.4        5.4       2.3        2\n",
      "149  149        5.9       3.0        5.1       1.8        2\n"
     ]
    }
   ],
   "source": [
    "import pandas as pd \n",
    "df = pd.read_csv('iris.csv') \n",
    "var_flower = {'iris-setosa': 0, 'iris-versicolor': 1, 'iris-virginica': 2} \n",
    "df['species'] = df['species'].map(var_flower)\n",
    "fn = df[(df[\"species\"] == 0)]\n",
    "fn_1 = df[(df[\"species\"] == 1)]\n",
    "fn_2 = df[(df[\"species\"] == 2)]\n",
    "print(fn)\n",
    "print(fn_1)\n",
    "print(fn_2)\n",
    "fn.to_csv('iris-setosa.csv')\n",
    "fn_1.to_excel('iris-versicolor.xlsx') \n",
    "fn_2.to_csv('iris-virginica.txt', sep = ',') \n"
   ]
  },
  {
   "attachments": {},
   "cell_type": "markdown",
   "metadata": {},
   "source": [
    "### Задание 1.4"
   ]
  },
  {
   "cell_type": "code",
   "execution_count": 56,
   "metadata": {},
   "outputs": [
    {
     "data": {
      "image/png": "[encoded data removed]",
      "text/plain": [
       "<Figure size 640x480 with 2 Axes>"
      ]
     },
     "metadata": {},
     "output_type": "display_data"
    }
   ],
   "source": [
    "import pandas as pd \n",
    "import matplotlib.pyplot as plt \n",
    "df = pd.read_csv('iris-setosa.csv') \n",
    "plt.subplot(1,2,1)\n",
    "plt.scatter(df['sepal_len'], df['sepal_wd']) \n",
    "plt.subplot(1,2,2)\n",
    "plt.scatter(df['petal_len'], df['petal_wd']) \n",
    "plt.show()"
   ]
  },
  {
   "attachments": {},
   "cell_type": "markdown",
   "metadata": {},
   "source": [
    "### Задание 1.5"
   ]
  },
  {
   "cell_type": "code",
   "execution_count": 58,
   "metadata": {},
   "outputs": [
    {
     "data": {
      "image/png": "[encoded data removed]",
      "text/plain": [
       "<Figure size 640x480 with 2 Axes>"
      ]
     },
     "metadata": {},
     "output_type": "display_data"
    }
   ],
   "source": [
    "import pandas as pd \n",
    "import matplotlib.pyplot as plt \n",
    "import xlrd\n",
    "df = pd.read_excel('iris-versicolor.xlsx') \n",
    "plt.subplot(1,2,1)\n",
    "plt.scatter(df['sepal_len'], df['sepal_wd']) \n",
    "plt.subplot(1,2,2)\n",
    "plt.scatter(df['petal_len'], df['petal_wd']) \n",
    "plt.show()"
   ]
  },
  {
   "attachments": {},
   "cell_type": "markdown",
   "metadata": {},
   "source": [
    "### Задание 1.6"
   ]
  },
  {
   "cell_type": "code",
   "execution_count": 66,
   "metadata": {},
   "outputs": [
    {
     "data": {
      "image/png": "[encoded data removed]",
      "text/plain": [
       "<Figure size 640x480 with 2 Axes>"
      ]
     },
     "metadata": {},
     "output_type": "display_data"
    }
   ],
   "source": [
    "import pandas as pd \n",
    "import matplotlib.pyplot as plt \n",
    "df = pd.read_csv('iris-virginica.txt') \n",
    "plt.subplot(1,2,1)\n",
    "plt.scatter(df['sepal_len'], df['sepal_wd']) \n",
    "plt.subplot(1,2,2)\n",
    "plt.scatter(df['petal_len'], df['petal_wd']) \n",
    "plt.show()"
   ]
  },
  {
   "attachments": {},
   "cell_type": "markdown",
   "metadata": {},
   "source": [
    "# 2. Чтение и запись JSON-файлов \n"
   ]
  },
  {
   "cell_type": "code",
   "execution_count": 21,
   "metadata": {},
   "outputs": [
    {
     "name": "stdout",
     "output_type": "stream",
     "text": [
      "          heights     weights       ages\n",
      "count   45.000000   45.000000  45.000000\n",
      "mean   178.888889   80.422222  49.133333\n",
      "std      8.501931    8.438249  10.674098\n",
      "min    156.000000   64.000000  21.000000\n",
      "25%    174.000000   75.000000  45.000000\n",
      "50%    180.000000   80.000000  53.000000\n",
      "75%    183.000000   84.000000  55.000000\n",
      "max    199.000000  110.000000  64.000000\n",
      "2.3\n",
      "[9.]\n",
      "[9.]\n",
      "[10.]\n",
      "2.4 -  ['male' 'female']\n"
     ]
    }
   ],
   "source": [
    "import pandas as pd \n",
    "import json \n",
    "import statistics\n",
    "import numpy as np\n",
    "df = pd.read_json('peoples.json')\n",
    "\n",
    "\n",
    "#with open('peoples.json') as f: peoples = json.load(f) \n",
    "#print(peoples['heights'].values()) \n",
    "#print(min(peoples['heights'].values()))\n",
    "#print(max(peoples['heights'].values()))\n",
    "print(df.describe())\n",
    "print('2.3')\n",
    "\n",
    "q3= np.percentile (df['heights'],[75])\n",
    "q1= np.percentile (df['heights'],[25])\n",
    "iqr = q3 - q1\n",
    "print(iqr)\n",
    "\n",
    "q4= np.percentile (df['weights'],[75])\n",
    "q2= np.percentile (df['weights'],[25])\n",
    "iqr1 = q4 - q2\n",
    "print(iqr1)\n",
    "\n",
    "q7= np.percentile (df['ages'],[75])\n",
    "q5= np.percentile (df['ages'],[25])\n",
    "iqr2 = q7 - q5\n",
    "print(iqr2)\n",
    "print('2.4 - ' ,df['gender'].unique())"
   ]
  }
 ],
 "metadata": {
  "kernelspec": {
   "display_name": "Python 3",
   "language": "python",
   "name": "python3"
  },
  "language_info": {
   "codemirror_mode": {
    "name": "ipython",
    "version": 3
   },
   "file_extension": ".py",
   "mimetype": "text/x-python",
   "name": "python",
   "nbconvert_exporter": "python",
   "pygments_lexer": "ipython3",
   "version": "3.10.6"
  },
  "orig_nbformat": 4
 },
 "nbformat": 4,
 "nbformat_minor": 2
}

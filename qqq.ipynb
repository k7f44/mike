{
 "cells": [
  {
   "cell_type": "markdown",
   "id": "75d27245",
   "metadata": {},
   "source": [
    "### Раздел 2"
   ]
  },
  {
   "cell_type": "markdown",
   "id": "dd7524a6",
   "metadata": {},
   "source": [
    "# Задание 2.1"
   ]
  },
  {
   "cell_type": "code",
   "execution_count": 5,
   "id": "a6ebd8c2",
   "metadata": {},
   "outputs": [
    {
     "name": "stdout",
     "output_type": "stream",
     "text": [
      "   heights  weights  ages\n",
      "0      188       86    58\n",
      "1      172       71    61\n",
      "2      187       89    54\n",
      "3      161       64    54\n",
      "    heights  weights  ages\n",
      "42      156       82    54\n",
      "43      185       85    47\n",
      "44      199      110    38\n"
     ]
    }
   ],
   "source": [
    "import pandas as pd \n",
    "heights = [188, 172, 187, 161, 183, 172, 185, 163, 173, 183, 174, 174, 175,\n",
    "178, 183, 195, 178, 173, 174, 183, 174, 181, 162, 180, 170, 175, 182, 180, 183,\n",
    "178, 182, 188, 175, 179, 184, 193, 182, 183, 175, 185, 182, 183, 156, 185, 199] \n",
    "weights = [86, 71, 89, 64, 83, 71, 86, 68, 73, 84, 73, 72, 75, 78, 85, 93, 78,\n",
    "70, 74, 80, 83, 82, 68, 80, 73, 78, 82, 81, 83, 79, 82, 86, 76, 77, 80, 103,\n",
    "82, 83, 77, 89, 80, 85, 82, 85, 110] \n",
    "ages = [58, 61, 54, 54, 58, 57, 63, 54, 37, 51, 34, 26, 50, 48, 45, 52, 56,\n",
    "46, 54, 28, 52, 47, 55, 55, 54, 42, 51, 56, 55, 51, 54, 32, 21, 62, 43, 55,\n",
    "56, 61, 53, 22, 64, 45, 54, 47, 38] \n",
    "\n",
    "df= pd.DataFrame ({\"heights\" : heights, \"weights\" : weights , \"ages\" : ages}) \n",
    "#print (df)\n",
    "\n",
    "\n",
    "\n",
    "\n",
    "print (df.loc [0:3])\n",
    "print (df.loc [42:])"
   ]
  },
  {
   "cell_type": "markdown",
   "id": "6a3a8815",
   "metadata": {},
   "source": [
    "# Задание 2.2"
   ]
  },
  {
   "cell_type": "code",
   "execution_count": 4,
   "id": "eb96c73b",
   "metadata": {},
   "outputs": [
    {
     "name": "stdout",
     "output_type": "stream",
     "text": [
      "heights    199\n",
      "weights    110\n",
      "ages        64\n",
      "dtype: int64\n",
      "heights    156\n",
      "weights     64\n",
      "ages        21\n",
      "dtype: int64\n",
      "heights    178.888889\n",
      "weights     80.422222\n",
      "ages        49.133333\n",
      "dtype: float64\n",
      "49.13333333333333\n"
     ]
    }
   ],
   "source": [
    "import pandas as pd \n",
    "import statistics\n",
    "heights = [188, 172, 187, 161, 183, 172, 185, 163, 173, 183, 174, 174, 175,\n",
    "178, 183, 195, 178, 173, 174, 183, 174, 181, 162, 180, 170, 175, 182, 180, 183,\n",
    "178, 182, 188, 175, 179, 184, 193, 182, 183, 175, 185, 182, 183, 156, 185, 199] \n",
    "weights = [86, 71, 89, 64, 83, 71, 86, 68, 73, 84, 73, 72, 75, 78, 85, 93, 78,\n",
    "70, 74, 80, 83, 82, 68, 80, 73, 78, 82, 81, 83, 79, 82, 86, 76, 77, 80, 103,\n",
    "82, 83, 77, 89, 80, 85, 82, 85, 110] \n",
    "ages = [58, 61, 54, 54, 58, 57, 63, 54, 37, 51, 34, 26, 50, 48, 45, 52, 56,\n",
    "46, 54, 28, 52, 47, 55, 55, 54, 42, 51, 56, 55, 51, 54, 32, 21, 62, 43, 55,\n",
    "56, 61, 53, 22, 64, 45, 54, 47, 38] \n",
    "\n",
    "df= pd.DataFrame ({\"heights\" : heights, \"weights\" : weights , \"ages\" : ages}) \n",
    "#print (df)\n",
    "\n",
    "maximums = df.max()\n",
    "print(maximums)\n",
    "\n",
    "min=df.min()\n",
    "print (min)\n",
    "\n",
    "sr=df.mean()\n",
    "print (sr)\n",
    "\n",
    "sum_list= sum(ages)\n",
    "lst_ages=sum_list/len(ages)\n",
    "print(lst_ages)\n",
    "\n",
    "sum_list= sum(ages)\n",
    "lst_ages=sum_list/len(ages)\n",
    "print(lst_ages)\n",
    "\n",
    "sum_list_2= sum(heights)\n",
    "lst_ages_2=sum_list_2/len(heights)\n",
    "print(lst_ages_2)\n",
    "\n",
    "sum_list_3= sum(weights)\n",
    "lst_ages_3=sum_list_3/len(weights)\n",
    "print(lst_ages_3)"
   ]
  },
  {
   "cell_type": "code",
   "execution_count": null,
   "id": "5f722a01",
   "metadata": {},
   "outputs": [],
   "source": []
  }
 ],
 "metadata": {
  "kernelspec": {
   "display_name": "Python 3 (ipykernel)",
   "language": "python",
   "name": "python3"
  },
  "language_info": {
   "codemirror_mode": {
    "name": "ipython",
    "version": 3
   },
   "file_extension": ".py",
   "mimetype": "text/x-python",
   "name": "python",
   "nbconvert_exporter": "python",
   "pygments_lexer": "ipython3",
   "version": "3.9.12"
  }
 },
 "nbformat": 4,
 "nbformat_minor": 5
}
